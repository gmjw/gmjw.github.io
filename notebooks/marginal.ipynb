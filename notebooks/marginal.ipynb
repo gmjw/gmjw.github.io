{
 "cells": [
  {
   "cell_type": "markdown",
   "metadata": {},
   "source": [
    "### The problem\n",
    "\n",
    "Let's prove a wonderfully useful result that will crop up a lot in many areas of Bayesian probability, notably the derivation of the Kalman filter.\n",
    "\n",
    "Suppose we have a situation where\n",
    "\n",
    "$$X \\sim N(\\mu, \\sigma^2)$$\n",
    "\n",
    "and the distribution of $Y$ _conditional on the value of_ $X$ is\n",
    "\n",
    "$$ Y | X \\sim N(X, \\tau^2)$$\n",
    "\n",
    "(in words: when we know the value of $X$, $Y$ is Normally distributed with a mean of $X$ and a variance of $\\tau^2$)\n",
    "\n",
    "The question we want to answer is, in this situation, what is the _marginal_ distribution of $Y$ (before we know the value of $X$)?"
   ]
  },
  {
   "cell_type": "markdown",
   "metadata": {},
   "source": [
    "### Theorem of total probability\n",
    "\n",
    "Well, to know the distribution of $Y$, we must know $P(Y = y)$ for any value $y$. \n",
    "\n",
    "This is calculated via the integral\n",
    "\n",
    "$$\n",
    "\\begin{align}\n",
    "P(Y = y) & = \\int P(Y = y, X = x) dx \\\\\n",
    "\\end{align}\n",
    "$$\n",
    "\n",
    "Intuitively, for any value of $y$, there are lots of possible values of $X$ that could \"lead to\" $Y$ taking on the value $y$. The probability that $Y = y$ is the sum of all these possible \"ways\" that the situation $Y = y$ could happen. That is, we need to sum up $P(Y = y, X = x)$ for all $x$. And because we are dealing with continuous variables, the sum we are talking about is an integral.\n",
    "\n",
    "What the previous paragraph is describing is actually a continuous version of the Theorem of Total Probability (a very important theorem, well worth understanding)"
   ]
  },
  {
   "cell_type": "markdown",
   "metadata": {},
   "source": [
    "### Bayes' rule\n",
    "\n",
    "We can now use Bayes' rule to convert our integral into terms we know about.\n",
    "\n",
    "In words, Bayes rule states that the probability of two events X and Y happening together is the product of \n",
    "- the probability of X happening and \n",
    "- the probability of Y happening given that X has happened.\n",
    "\n",
    "So\n",
    "\n",
    "$$\n",
    "\\begin{align}\n",
    "P(Y = y) & = \\int P(Y = y, X = x) dx \\\\\n",
    "         & = \\int P(Y = y| X = x) P(X = x) dx\n",
    "\\end{align}\n",
    "$$"
   ]
  },
  {
   "cell_type": "markdown",
   "metadata": {},
   "source": [
    "### Fill in terms\n",
    "\n",
    "Because we know the form of the Normal distribution's pdf, we know all the terms inside the integral. We can write it out in full.\n",
    "\n",
    "$$\n",
    "\\begin{align}\n",
    "P(Y = y) & = \\int P(Y = y|X = x) P(X = x) dx \\\\\n",
    "             & = \\int \\frac{1}{\\sqrt{2 \\pi} \\tau} \\exp \\left\\{ -\\frac{1}{2} \\frac{(y - x)^2}{\\tau^2} \\right\\} \\frac{1}{\\sqrt{2 \\pi} \\sigma} \\exp \\left\\{ -\\frac{1}{2} \\frac{(x - \\mu)^2}{\\sigma^2} \\right\\}  \\ dx \\\\\n",
    "             & = \\frac{1}{\\sqrt{2 \\pi} \\tau} \\frac{1}{\\sqrt{2 \\pi} \\sigma} \\int \\exp \\left\\{ -\\frac{1}{2} \\left( \\frac{(y - x)^2}{\\tau^2} + \\frac{(x - \\mu)^2}{\\sigma^2} \\right) \\right\\}  \\ dx \\\\\n",
    "\\end{align}\n",
    "$$"
   ]
  },
  {
   "cell_type": "markdown",
   "metadata": {},
   "source": [
    "### Focus on the exponent\n",
    "\n",
    "Let's focus on the term inside the brackets in the exponent in the integral. Call this term E.\n",
    "\n",
    "$$\n",
    "\\begin{align}\n",
    "E & = \\frac{(y - x)^2}{\\tau^2} + \\frac{(x - \\mu)^2}{\\sigma^2} \\\\\n",
    "  & = \\frac{1}{\\tau^2 \\sigma^2} \\left[ \\sigma^2 (y - x)^2 + \\tau^2 (x - \\mu)^2 \\right] \\\\\n",
    "  & = \\frac{1}{\\tau^2 \\sigma^2} \\left[ \\sigma^2 (y^2 - 2xy + x^2) + \\tau^2 (x^2 - 2x\\mu + \\mu^2) \\right] \\\\\n",
    "\\end{align}\n",
    "$$"
   ]
  },
  {
   "cell_type": "markdown",
   "metadata": {},
   "source": [
    "### Collect terms\n",
    "\n",
    "Now we want to collect together all the terms involving $x^2$, and all those involving $x$ and all constant terms.\n",
    "\n",
    "$$\n",
    "\\begin{align}\n",
    "E & = \\frac{1}{\\tau^2 \\sigma^2} \\left[ (\\sigma^2 x^2 + \\tau^2 x^2) + (\\sigma^2.-2xy + \\tau^2.-2x\\mu) + (\\sigma^2 y^2 + \\tau^2 \\mu^2) \\right] \\\\\n",
    "  & = \\frac{1}{\\tau^2 \\sigma^2} \\left[ (\\sigma^2 + \\tau^2) x^2 - 2(\\sigma^2 y + \\tau^2 \\mu)x + (\\sigma^2 y^2 + \\tau^2 \\mu^2) \\right] \\\\\n",
    "\\end{align}\n",
    "$$\n",
    "\n",
    "Now let's rearrange (factorise) a bit\n",
    "\n",
    "$$\n",
    "\\begin{align}\n",
    "E & = \\frac{\\sigma^2 + \\tau^2}{\\tau^2 \\sigma^2} \\left[ x^2 - 2 \\left( \\frac{\\sigma^2 y + \\tau^2 \\mu}{\\sigma^2 + \\tau^2}\\right) x + \\frac{(\\sigma^2 y^2 + \\tau^2 \\mu^2)}{\\sigma^2 + \\tau^2} \\right] \\\\\n",
    "\\end{align}\n",
    "$$"
   ]
  },
  {
   "cell_type": "markdown",
   "metadata": {},
   "source": [
    "### Complete the square\n",
    "\n",
    "Now we use a very clever trick called \"completing the square\". What we want is an expression of the form \n",
    "\n",
    "$$A (x - B)^2 + C$$\n",
    "\n",
    "(Why will become clear later). \n",
    "\n",
    "Although it looks a bit nasty, we can do this from the above expression. Let's relabel a few variables:\n",
    "\n",
    "$$\n",
    "\\begin{align}\n",
    "a & = \\frac{\\sigma^2 + \\tau^2}{\\tau^2 \\sigma^2} \\\\\n",
    "b & = \\frac{\\sigma^2 y + \\tau^2 \\mu}{\\sigma^2 + \\tau^2} \\\\\n",
    "c & = \\frac{(\\sigma^2 y^2 + \\tau^2 \\mu^2)}{\\sigma^2 + \\tau^2} \\\\\n",
    "\\end{align}\n",
    "$$\n",
    "\n",
    "Then our expression $E$ becomes\n",
    "\n",
    "$$E = a \\left[ x^2 - 2 bx + c \\right] $$"
   ]
  },
  {
   "cell_type": "markdown",
   "metadata": {},
   "source": [
    "Now let's add and subtract $b^2$ inside that bracket. This doesn't change the bracket's value, so we still have $E$.\n",
    "\n",
    "$$E = a \\left[ x^2 - 2 bx + b^2 - b^2 + c \\right] $$\n",
    "\n",
    "And now we spot that the first few terms in the bracket are actually $(x-b)^2$.\n",
    "\n",
    "$$\n",
    "\\begin{align}\n",
    "E & = a \\left[ (x - b)^2 - b^2 + c \\right] \\\\\n",
    "  & = a (x - b)^2 + a \\left[- b^2 + c \\right] \\\\\n",
    "  & = a (x - b)^2 + a \\left( c - b^2 \\right) \\\\\n",
    "\\end{align}\n",
    "$$\n",
    "\n",
    "We've completed the square: we've got an expression for $E$ in the form \n",
    "\n",
    "$$A (x - B)^2 + C$$\n",
    "\n",
    "where \n",
    "\n",
    "$$\n",
    "\\begin{align}\n",
    "A & = a \\\\\n",
    "B & = b \\\\\n",
    "C & = a (c - b^2)\n",
    "\\end{align}\n",
    "$$"
   ]
  },
  {
   "cell_type": "markdown",
   "metadata": {},
   "source": [
    "### Relabel\n",
    "\n",
    "Now, let's relabel a bit. If we let \n",
    "\n",
    "$$\n",
    "\\begin{align}\n",
    "D = \\frac{1}{\\sqrt{a}} \\iff a = \\frac{1}{D^2}\n",
    "\\end{align}\n",
    "$$\n",
    "\n",
    "then\n",
    "\n",
    "$$E = \\frac{(x - B)^2}{D^2} + C$$\n",
    "\n",
    "Again, the reason for this decision will become clearer below!"
   ]
  },
  {
   "cell_type": "markdown",
   "metadata": {},
   "source": [
    "### Rearrange the original integral\n",
    "\n",
    "Ok, let's go back to our original integral. We now have\n",
    "\n",
    "$$\n",
    "\\begin{align}\n",
    "P(Y = y) & = \\frac{1}{\\sqrt{2 \\pi} \\tau} \\frac{1}{\\sqrt{2 \\pi} \\sigma} \\int \\exp \\left\\{ -\\frac{1}{2} \\left( \\frac{(x - B)^2}{D^2} + C \\right) \\right\\}  \\ dx \\\\\n",
    "         & = \\frac{1}{\\sqrt{2 \\pi}} \\frac{1}{\\sqrt{2 \\pi}} \\frac{1}{\\tau \\sigma} \\exp \\left\\{ -\\frac{1}{2} C \\right\\} \\int \\exp \\left\\{ -\\frac{1}{2} \\frac{(x - B)^2}{D^2} \\right\\}  \\ dx \\\\\n",
    "\\end{align}\n",
    "$$"
   ]
  },
  {
   "cell_type": "markdown",
   "metadata": {},
   "source": [
    "I'm now going to multiply the expression by $\\frac{D}{D} = 1$, which doesn't change its value, and rearrange\n",
    "\n",
    "$$\n",
    "\\begin{align}\n",
    "P(Y = y) & = \\frac{1}{\\sqrt{2 \\pi}} \\frac{1}{\\sqrt{2 \\pi}} \\frac{1}{\\tau \\sigma} \\frac{D}{D} \\exp \\left\\{ -\\frac{1}{2} C \\right\\} \\int \\exp \\left\\{ -\\frac{1}{2} \\frac{(x - B)^2}{D^2} \\right\\}  \\ dx \\\\\n",
    "         & = \\frac{1}{\\sqrt{2 \\pi}} \\frac{1}{\\tau \\sigma} D \\exp \\left\\{ -\\frac{1}{2} C \\right\\} \\int \\frac{1}{\\sqrt{2 \\pi}} \\frac{1}{D} \\exp \\left\\{ -\\frac{1}{2} \\frac{(x - B)^2}{D^2} \\right\\}  \\ dx \\\\\n",
    "\\end{align}\n",
    "$$"
   ]
  },
  {
   "cell_type": "markdown",
   "metadata": {},
   "source": [
    "### A fantastically useful trick\n",
    "\n",
    "We now use a fantasically useful trick, which comes up a lot when we are working with probability density functions and integrals. \n",
    "\n",
    "Because of the choices we made above, we managed to rearrange the exponential term inside the integral into the form \n",
    "\n",
    "$$\n",
    "\\begin{align}\n",
    "\\exp \\left\\{ -\\frac{1}{2} \\frac{(x - B)^2}{D^2} \\right\\}\n",
    "\\end{align}\n",
    "$$ \n",
    "\n",
    "Also, the constant in front of the exponential (inside the integral) is the correct constant for a Normal distribution with this mean and variance. So we recognise that the integral here is that of a Normal pdf with mean $B$ and variance $D^2$.\n",
    "\n",
    "So the value of integral is therefore equal to 1 (we know that any probability distribution must integrate to 1). So it drops out of our expression for $P(Y = y)$ completely!"
   ]
  },
  {
   "cell_type": "markdown",
   "metadata": {},
   "source": [
    "### The integral disappears\n",
    "\n",
    "So we now have an expression for $P(Y = y)$ that does not involve an integral:\n",
    "\n",
    "$$\n",
    "\\begin{align}\n",
    "P(Y = y) \n",
    " & = \\frac{1}{\\sqrt{2 \\pi}} \\frac{1}{\\tau \\sigma} D \\exp \\left\\{ -\\frac{1}{2} C \\right\\} \\\\\n",
    " & = \\frac{1}{\\sqrt{2 \\pi}} \\frac{1}{\\tau \\sigma} D \\exp \\left\\{ -\\frac{1}{2} a \\left( c - b^2 \\right) \\right\\} \n",
    "\\end{align}\n",
    "$$\n",
    "\n",
    "All that remains is to work out the exact dependence on $y$ from the above expression.\n",
    "\n",
    "We're getting there! It might seem like hard work, but I hope you're following and enjoying the fact that everything we've done is from first principles. All we've assumed are some very well-known laws of probability and calculus."
   ]
  },
  {
   "cell_type": "markdown",
   "metadata": {},
   "source": [
    "### Focus on the exponent again\n",
    "\n",
    "In the remaining expression for $P(Y = y)$, we see that the only dependence on $y$ is once again inside the exponential term ($y$ does not appear in the definition of $D$ above or any of the other constants outside the exponential). \n",
    "\n",
    "So let's relabel the main part of that exponential term $F$, and simplify it.\n",
    "\n",
    "$$\n",
    "\\begin{align}\n",
    "F =  a \\left( c - b^2 \\right)\n",
    "\\end{align}\n",
    "$$\n",
    "\n",
    "Using our definitions of $a$, $b$ and $c$ from above, we have\n",
    "\n",
    "$$\n",
    "\\begin{align}\n",
    "F & = \\frac{\\sigma^2 + \\tau^2}{\\tau^2 \\sigma^2} \\left[ \\frac{(\\sigma^2 y^2 + \\tau^2 \\mu^2)}{\\sigma^2 + \\tau^2} - \\left(\\frac{\\sigma^2 y + \\tau^2 \\mu}{\\sigma^2 + \\tau^2} \\right)^2 \\right] \\\\\n",
    "  & = \\frac{\\sigma^2 + \\tau^2}{\\tau^2 \\sigma^2} \\left[ \\frac{(\\sigma^2 y^2 + \\tau^2 \\mu^2)}{\\sigma^2 + \\tau^2} - \\frac{\\left(\\sigma^2 y + \\tau^2 \\mu\\right)^2}{\\left(\\sigma^2 + \\tau^2\\right)^2} \\right] \\\\\n",
    "  & = \\frac{\\sigma^2 + \\tau^2}{\\tau^2 \\sigma^2} \\left[ \\frac{(\\sigma^2 + \\tau^2)(\\sigma^2 y^2 + \\tau^2 \\mu^2)}{\\left(\\sigma^2 + \\tau^2\\right)^2} - \\frac{\\left(\\sigma^2 y + \\tau^2 \\mu\\right)^2}{\\left(\\sigma^2 + \\tau^2\\right)^2} \\right] \\\\\n",
    "  & = \\frac{1}{\\tau^2 \\sigma^2(\\sigma^2 + \\tau^2)} \\left[ (\\sigma^2 + \\tau^2)(\\sigma^2 y^2 + \\tau^2 \\mu^2) - \\left(\\sigma^2 y + \\tau^2 \\mu\\right)^2 \\right] \\\\\n",
    "\\end{align}\n",
    "$$"
   ]
  },
  {
   "cell_type": "markdown",
   "metadata": {},
   "source": [
    "### Simplify the exponent\n",
    "\n",
    "This looks a bit ugly, but we can simplify it.\n",
    "\n",
    "If we multiply out the terms in the square bracket, we get\n",
    "\n",
    "$$\n",
    "\\begin{align}\n",
    "F & = \\frac{1}{\\tau^2 \\sigma^2(\\sigma^2 + \\tau^2)} \\left[ \\sigma^4 y^2 + \\tau^2\\sigma^2 y^2 + \\tau^2 \\sigma^2 \\mu^2 + \\tau^4 \\mu^2 - \\left(\\sigma^4 y^2 + 2 \\sigma^2 \\tau^2 \\mu y + \\tau^4 \\mu^2 \\right) \\right] \\\\\n",
    "  & = \\frac{1}{\\tau^2 \\sigma^2(\\sigma^2 + \\tau^2)} \\left[ \\tau^2\\sigma^2 y^2 + \\tau^2 \\sigma^2 \\mu^2 - 2 \\sigma^2 \\tau^2 \\mu y \\right] \\\\\n",
    "  & = \\frac{1}{\\sigma^2 + \\tau^2} \\left[ y^2 + \\mu^2 - 2 \\mu y \\right] \\\\\n",
    "  & = \\frac{(y - \\mu)^2}{\\sigma^2 + \\tau^2}\n",
    "\\end{align}\n",
    "$$\n",
    "\n",
    "Wow - that's a real simplification of what previously looked like a nasty formula!"
   ]
  },
  {
   "cell_type": "markdown",
   "metadata": {},
   "source": [
    "### Simplify constant terms\n",
    "\n",
    "If we recall also that \n",
    "\n",
    "$$\n",
    "D = \\frac{1}{\\sqrt{a}} \n",
    "  = \\frac{1}{\\sqrt{\\frac{\\sigma^2 + \\tau^2}{\\tau^2 \\sigma^2}}} \n",
    "  = \\frac{1} {\\frac{\\sqrt{\\sigma^2 + \\tau^2}}{\\tau \\sigma}} \n",
    "  = \\frac{\\tau \\sigma}{\\sqrt{\\sigma^2 + \\tau^2}} \n",
    "$$\n",
    "\n",
    "then our final expression for $P(Y = y)$ becomes\n",
    "\n",
    "$$\n",
    "\\begin{align}\n",
    "P(Y = y) & = \\frac{1}{\\sqrt{2 \\pi}} \\frac{1}{\\tau \\sigma} \\frac{\\tau \\sigma}{\\sqrt{\\sigma^2 + \\tau^2}} \\exp \\left\\{ -\\frac{1}{2} \\frac{(y - \\mu)^2}{\\sigma^2 + \\tau^2} \\right\\} \\\\\n",
    "         & = \\frac{1}{\\sqrt{2 \\pi}} \\frac{1}{\\sqrt{\\sigma^2 + \\tau^2}} \\exp \\left\\{ -\\frac{1}{2} \\frac{(y - \\mu)^2}{\\sigma^2 + \\tau^2} \\right\\} \\\\\n",
    "         & = \\frac{1}{\\sqrt{2 \\pi}} \\frac{1}{\\sigma'} \\exp \\left\\{ -\\frac{1}{2} \\frac{(y - \\mu)^2}{\\sigma'^2} \\right\\} \\\\\n",
    "\\end{align}\n",
    "$$\n",
    "\n",
    "where we have set $\\sigma' = \\sqrt{\\sigma^2 + \\tau^2}$."
   ]
  },
  {
   "cell_type": "markdown",
   "metadata": {},
   "source": [
    "### Recognise the pdf\n",
    "\n",
    "We can use that trick from above again: we recognise that this is the pdf of a Normal distribution, with mean $\\mu$ and variance \n",
    "$$\\sigma'^2 = \\sigma^2 + \\tau^2$$\n",
    "\n",
    "We're done!"
   ]
  },
  {
   "cell_type": "markdown",
   "metadata": {},
   "source": [
    "### We're done!\n",
    "\n",
    "We have proved that if we have \n",
    "\n",
    "$$X \\sim N(\\mu, \\sigma^2)$$\n",
    "\n",
    "and \n",
    "\n",
    "$$ Y | X \\sim N(X, \\tau^2)$$\n",
    "\n",
    "then the marginal distribution for $Y$ is\n",
    "\n",
    "$$ Y \\sim N(\\mu, \\sigma^2 + \\tau^2)$$\n",
    "\n",
    "In words, marginally (without knowing the value of $X$) $Y$ has the same mean as $X$, but has variance equal to the sum of the marginal variance of $X$ and the conditional variance of $Y$ given $X$."
   ]
  }
 ],
 "metadata": {
  "blog": {
   "description": "Working through the mathematical ideas in this proof is a great way to learn about Bayesian probability theory",
   "id": "normal-variable-normal-mean",
   "image": "https://s3-us-west-2.amazonaws.com/s.cdpn.io/450744/karl-magnuson.jpg",
   "published": "2017-09-14T18:17:00Z",
   "title": "A Normally distributed variable with Normally distributed mean"
  },
  "kernelspec": {
   "display_name": "Python 3",
   "language": "python",
   "name": "python3"
  },
  "language_info": {
   "codemirror_mode": {
    "name": "ipython",
    "version": 3
   },
   "file_extension": ".py",
   "mimetype": "text/x-python",
   "name": "python",
   "nbconvert_exporter": "python",
   "pygments_lexer": "ipython3",
   "version": "3.7.0"
  }
 },
 "nbformat": 4,
 "nbformat_minor": 1
}
